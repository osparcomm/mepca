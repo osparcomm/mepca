{
 "cells": [
  {
   "cell_type": "markdown",
   "metadata": {},
   "source": [
    "## Tool to read OSPAR MPA management reporting and convert responses to MEPCA Compatible outputs"
   ]
  },
  {
   "cell_type": "markdown",
   "metadata": {},
   "source": [
    "1. Import dependencies"
   ]
  },
  {
   "cell_type": "code",
   "execution_count": null,
   "metadata": {},
   "outputs": [],
   "source": [
    "import os\n",
    "import numpy as np\n",
    "import pandas as pd\n",
    "import glob\n",
    "import time\n"
   ]
  },
  {
   "cell_type": "markdown",
   "metadata": {},
   "source": [
    "### Local Operation:\n",
    "2. The user inputs the folder where the collated MPA management Excel sheet is stored. Code looks into `inputfolder` for xlsx files:"
   ]
  },
  {
   "cell_type": "code",
   "execution_count": null,
   "metadata": {},
   "outputs": [],
   "source": [
    "start_time = time.time() # Used to calculate the run time of the MEPCA tool - Start\n",
    "inputfolder = input('Enter input folder path: ')\n",
    "filename = glob.glob(inputfolder)\n",
    "\n",
    "# Defines a data frame for the Excel to be read into:\n",
    "read_df = pd.DataFrame()"
   ]
  },
  {
   "cell_type": "markdown",
   "metadata": {},
   "source": [
    "3. For each Excel file in the folder, sheet `MPA_MGT` is read into the data frame `read_df`:"
   ]
  },
  {
   "cell_type": "code",
   "execution_count": null,
   "metadata": {},
   "outputs": [],
   "source": [
    "for filename in os.listdir(inputfolder):\n",
    "    inputfile = os.path.join(inputfolder, filename)\n",
    "    df = pd.DataFrame(pd.read_excel(inputfile, sheet_name='MPA_MGT', header=0))\n",
    "print (df.iloc[:,[0,3,4,6,8,10,12]]) # Columns: 0-'OSPAR MPA name', 3-'Country', 4-'a) Management documented: Response', 6-'b)Measures implemented: Response ', 8-'c) Monitoring in place: Response', 10-'d)Moving towards objectives - Response', 12-'d)Moving towards objectives - Confidence score'"
   ]
  },
  {
   "cell_type": "markdown",
   "metadata": {},
   "source": [
    "4. Basic QC on the entries to make sure the right type is captured:"
   ]
  },
  {
   "cell_type": "code",
   "execution_count": null,
   "metadata": {},
   "outputs": [],
   "source": [
    "df_prep = df.replace(to_replace=[\"yes\", \"partial\", \"no\", \"no response\", \"unknown\", \"Not applicable\", \"high\", \"moderate\"], \n",
    "                     value=[\"Yes\", \"Partial\", \"No\", \"No response\", \"Unknown\", \"Not Applicable\", \"High\", \"Moderate\"])\n",
    "df_prep.to_excel(inputfolder + \"/2-Addendum3_Management_MEPCA-qc.xlsx\", sheet_name = \"mepca-qc\")"
   ]
  },
  {
   "cell_type": "markdown",
   "metadata": {},
   "source": [
    "5. Find and replace the entries in the QC result `df_prep`, in accordance with the MEPCA guidance to `df_mepca`:  \n",
    "\n",
    "| Reponse | Score | Confidence | Score |\n",
    "|---------|-------|---------|-------|\n",
    "| | |  \"High\" | 3 |\n",
    "| \"Yes\" | 2 |\"Moderate\" | 2 |\n",
    "| \"Partial\" | 1 |  \"Low\" | 1 |\n",
    "| \"No\" / \"Unknown\" | 0 | \"Not applicable\" | 0 |\n",
    "\n"
   ]
  },
  {
   "cell_type": "code",
   "execution_count": null,
   "metadata": {},
   "outputs": [],
   "source": [
    "df_mepca = df_prep.replace(to_replace=[\"Yes\", \"Partial\", \"No\", \"No response\", \"Unknown\", \"Not Applicable\", \"High\", \"Moderate\", \"Low\", np.nan], value=[2, 1, 0, 0, 0, 0, 3, 2, 1, 9999]) # 9999 allows a catch for nan values\n",
    "df_mepca.to_excel(inputfolder + \"/2-Addendum3_Management_MEPCA-scoreconv.xlsx\", sheet_name = \"score-conv\") # Output an Excel to check the conversion values are correct and feed into mepca-indicator-score\n",
    "\n",
    "for col in df_mepca.columns:\n",
    "    print(col)"
   ]
  },
  {
   "cell_type": "markdown",
   "metadata": {},
   "source": [
    "6. Count the results by Response using `df_prep` as a basis, into `df_countmatrix`:\n",
    "\n",
    "[To be checked why `df_prep` is used and not `df_mepca`]"
   ]
  },
  {
   "cell_type": "code",
   "execution_count": null,
   "metadata": {},
   "outputs": [],
   "source": [
    "df_countmatrix = df_prep\n",
    "df_countmatrix = df.groupby(['Country', 'a) Management documented: Response', 'b)Measures implemented: Response ', 'c) Monitoring in place: Response', \n",
    "                             'd)Moving towards objectives - Response', 'd)Moving towards objectives - Confidence score'], as_index=False).size()\n",
    "df_countmatrix.to_excel(inputfolder + \"/5-Addendum3_Management_MEPCA-countmatrix.xlsx\")\n",
    "\n",
    "for col in df_countmatrix.columns:\n",
    "    print(col)"
   ]
  },
  {
   "cell_type": "markdown",
   "metadata": {},
   "source": [
    "## Module to read `mepca-calc` and `mepca-indicator-score` outputs, and plot"
   ]
  },
  {
   "cell_type": "markdown",
   "metadata": {},
   "source": [
    "7. Import dependancies:"
   ]
  },
  {
   "cell_type": "code",
   "execution_count": null,
   "metadata": {},
   "outputs": [],
   "source": [
    "import os\n",
    "import pandas as pd\n",
    "import numpy as np\n",
    "from plotly import express as px\n",
    "from collections import Counter"
   ]
  },
  {
   "cell_type": "markdown",
   "metadata": {},
   "source": [
    "8. Import data from `df_prep`, output from step 4, QC:"
   ]
  },
  {
   "cell_type": "code",
   "execution_count": null,
   "metadata": {},
   "outputs": [],
   "source": [
    "# inputfolder = input('Enter input file path: ') # Can be exposed if running as an independent module or if an alternative input file is used\n",
    "filename = ('2-Addendum3_Management_MEPCA-qc.xlsx')"
   ]
  },
  {
   "cell_type": "markdown",
   "metadata": {},
   "source": [
    "9. Create dataframe and read in data"
   ]
  },
  {
   "cell_type": "code",
   "execution_count": null,
   "metadata": {},
   "outputs": [],
   "source": [
    "plotdf = pd.DataFrame()\n",
    "inputfile = os.path.join(inputfolder, filename)\n",
    "plotdf = pd.DataFrame(pd.read_excel(inputfile, header=0))\n",
    "#print(plotdf.columns) # Can be exposed to check the headers that read into the plot."
   ]
  },
  {
   "cell_type": "markdown",
   "metadata": {},
   "source": [
    "10. Define colours and labels"
   ]
  },
  {
   "cell_type": "code",
   "execution_count": null,
   "metadata": {},
   "outputs": [],
   "source": [
    "# RAL values converted using https://rgb.to/\n",
    "# 'Yes': 'Green': Hex: '#00b050', RAL: 000 176 080\n",
    "# 'Partial': 'Orange': Hex:'#f79646', RAL: 247 150 070 \n",
    "# 'No': 'Red': Hex:'#c0504d', RAL: 192 080 077\n",
    "# 'No response': 'Dark grey': Hex: '#404040', RAL: 064 064 064\n",
    "# 'Unknown': 'Light grey': Hex:'#a6a6a6', RAL: 166 166 166\n",
    "\n",
    "pielabelmap = {'Yes': 'Yes',\n",
    "               'Partial': 'Partial',\n",
    "               'No': 'No',\n",
    "               'No response': 'No response',\n",
    "               'Unknown': 'Unknown'}\n",
    "\n",
    "colours = {'Yes': '#00b050',\n",
    "            'Partial': '#f79646',\n",
    "            'No': '#c0504d',\n",
    "            'No response': '#404040',\n",
    "            'Unknown': '#a6a6a6',\n",
    "            'High': '#00b050',\n",
    "            'Moderate': '#f79646',\n",
    "            'Low': '#c0504d',\n",
    "            'Not Applicable': '#a6a6a6' }\n",
    "\n",
    "wordcounts = ['Yes,', 'Partial', 'No', 'No response', 'Unknown', np.nan]"
   ]
  },
  {
   "cell_type": "markdown",
   "metadata": {},
   "source": [
    "11. Plot pie charts"
   ]
  },
  {
   "cell_type": "code",
   "execution_count": null,
   "metadata": {},
   "outputs": [],
   "source": [
    "a = Counter(plotdf['a) Management documented: Response'])\n",
    "print(a.items())\n",
    "labelsa = list(a.keys())\n",
    "valuesa = list(a.values())\n",
    "plota = px.pie(values=valuesa, names=labelsa, color=a.keys(), color_discrete_map=colours,title=\"'a) Management documented: Response'\")\n",
    "plota.update_traces(textinfo='percent+value')\n",
    "plota.show()\n",
    "plota.write_image(inputfolder + '/plota.png')\n",
    "\n",
    "b = Counter(plotdf['b)Measures implemented: Response '])\n",
    "print(b.items())\n",
    "labelsb = list(b.keys())\n",
    "valuesb = list(b.values())\n",
    "plotb = px.pie(values=valuesb, names=labelsb, color=b.keys(), color_discrete_map=colours, title=\"'b)Measures implemented: Response'\")\n",
    "plotb.update_traces(textinfo='percent+value')\n",
    "plotb.show()\n",
    "plotb.write_image(inputfolder + '/plotb.png')\n",
    "\n",
    "c = Counter(plotdf['c) Monitoring in place: Response'])\n",
    "print(c.items())\n",
    "labelsc = list(c.keys())\n",
    "valuesc = list(c.values())\n",
    "plotc = px.pie(values=valuesc, names=labelsc, color=c.keys(), color_discrete_map=colours, title=\"'c) Monitoring in place: Response'\")\n",
    "plotc.update_traces(textinfo='percent+value')\n",
    "plotc.show()\n",
    "plotc.write_image(inputfolder + '/plotc.png')\n",
    "\n",
    "d = Counter(plotdf['d)Moving towards objectives - Response'])\n",
    "print(d.items())\n",
    "labelsd = list(d.keys())\n",
    "valuesd = list(d.values())\n",
    "plotd = px.pie(values=valuesd, names=labelsd, color=d.keys(), color_discrete_map=colours, title=\"'d)Moving towards objectives: Response'\")\n",
    "plotd.update_traces(textinfo='percent+value')\n",
    "plotd.show()\n",
    "plotd.write_image(inputfolder + '/plotd.png')\n",
    "\n",
    "e = Counter(plotdf['d)Moving towards objectives - Confidence score'])\n",
    "print(e.items())\n",
    "labelse = list(e.keys())\n",
    "valuese = list(e.values())\n",
    "plote = px.pie(values=valuese, names=labelse, color=e.keys(), color_discrete_map=colours, title=\"'d)Moving towards objectives: Confidence score'\")\n",
    "plote.update_traces(textinfo='percent+value')\n",
    "plote.show()\n",
    "plote.write_image(inputfolder + '/plote.png')\n"
   ]
  },
  {
   "cell_type": "markdown",
   "metadata": {},
   "source": [
    "## Module to read `mepca-calc` outputs and produce `mepca-indicator-score`"
   ]
  },
  {
   "cell_type": "markdown",
   "metadata": {},
   "source": [
    "## Contextual information:\n",
    "### The mapping of OSPAR Management Status Questions to MEPCA Indicator Metrics:\n",
    "\n",
    "| OSPAR Management Status Question | MEPCA Indicator Metrics |\n",
    "|----------------------------------|-------------------------|\n",
    "| Question A - Is the MPA management documented?\t|\tc) Is information on the PCA for management available? |\n",
    "| Question B - Are the measures to achieve the conservation objectives being implemented? |\t\td) Are management measures being implemented for the area to achieve its outcomes for conservation?\t|\n",
    "| Question C - Is monitoring in place to assess if measures are working?\t|\te) Does monitoring take place which helps to assess progress towards achieving conservation outcomes? |\n",
    "| Question D - Is the MPA moving towards or has it reached its conservation objectives?\t|\tf) Is the PCA achieving its conservation outcomes?\t|\n",
    "| Confidence scores\t| g) What is the level of confidence in the data used to assess progress towards the achievement of conservation outcomes? |\n",
    "\n",
    "Scoring conversions:  \n",
    "\n",
    "| Reponse | Score | Confidence | Score |\n",
    "|---------|-------|---------|-------|\n",
    "| | |  \"High\" | 3 |\n",
    "| \"Yes\" | 2 |\"Moderate\" | 2 |\n",
    "| \"Partial\" | 1 |  \"Low\" | 1 |\n",
    "| \"No\" / \"Unknown\" | 0 | \"Not applicable\" | 0 |\n",
    "\n",
    "Formula used to calculate the MEPCA indicator score:\n",
    "\n",
    "$(((c * 0.15) + (d * 0.25) + (e * 0.25) + (h * 0.35) / 3.4) * 100)$  \\\n",
    "\\\n",
    "c = QstnA, \\\n",
    "d = QstnB, \\\n",
    "e = QstnC, \\\n",
    "h = (QstnD * Confidence scores)  \\\n",
    "Pass = n% > 38.24  \\\n",
    "Inadequate = n% < 38.24"
   ]
  },
  {
   "cell_type": "markdown",
   "metadata": {},
   "source": [
    "## Data Processing:\n",
    "12. Import dependencies"
   ]
  },
  {
   "cell_type": "code",
   "execution_count": null,
   "metadata": {},
   "outputs": [],
   "source": [
    "import os\n",
    "import pandas as pd"
   ]
  },
  {
   "cell_type": "markdown",
   "metadata": {},
   "source": [
    "13. Point to Excel file output from `df_mepca` from step 5, score conversions:"
   ]
  },
  {
   "cell_type": "code",
   "execution_count": null,
   "metadata": {},
   "outputs": [],
   "source": [
    "# inputfolder = input('Enter input file path: ') # Can be exposed if running as an independent module or if an alternative input file is used\n",
    "filename = ('2-Addendum3_Management_MEPCA-scoreconv.xlsx')"
   ]
  },
  {
   "cell_type": "markdown",
   "metadata": {},
   "source": [
    "14. Defines `read_df` data frame for the Excel to be read into:"
   ]
  },
  {
   "cell_type": "code",
   "execution_count": null,
   "metadata": {},
   "outputs": [],
   "source": [
    "# read_df = pd.DataFrame()"
   ]
  },
  {
   "cell_type": "markdown",
   "metadata": {},
   "source": [
    "15. Reads in the MEPCA Score Conversion output Excel file from `df_mepca` (step 5), using sheet `score-conv` is read into the data frame `df_ind`:"
   ]
  },
  {
   "cell_type": "code",
   "execution_count": null,
   "metadata": {},
   "outputs": [],
   "source": [
    "inputfile = os.path.join(inputfolder, filename)\n",
    "df_ind = pd.DataFrame(pd.read_excel(inputfile, sheet_name='score-conv', header=0))\n",
    "print(df_ind.columns) # Can be uncommented to check the headers that read into the calculation."
   ]
  },
  {
   "cell_type": "markdown",
   "metadata": {},
   "source": [
    "16. Calculating MEPCA indicator score:\n",
    "\n",
    "PartOne = QstnA * 0.15  \\\n",
    "PartTwo = QstnB * 0.25  \\\n",
    "PartThree = QstnC * 0.25  \\\n",
    "PartFour = QstnD * Confidence scores  \\\n",
    "PartFive = PartFour * 0.35  \\\n",
    "PartSix = PartFive / 3.4  \\\n",
    "PartSeven = PartOne + PartTwo + PartThree + PartSix  \\\n",
    "IndicatorScore = PartSeven * 100"
   ]
  },
  {
   "cell_type": "code",
   "execution_count": null,
   "metadata": {},
   "outputs": [],
   "source": [
    "df_ind['PartOne'] = df_ind['a) Management documented: Response'].multiply(0.15)\n",
    "df_ind['PartTwo'] = df_ind['b)Measures implemented: Response '].multiply(0.25)\n",
    "df_ind['PartThree'] = df_ind['c) Monitoring in place: Response'].multiply(0.25)\n",
    "df_ind['PartFour'] = df_ind['d)Moving towards objectives - Response'].multiply(df_ind['d)Moving towards objectives - Confidence score'])\n",
    "df_ind['PartFive'] = df_ind['PartFour'].multiply(0.35)\n",
    "df_ind['PartSix'] = df_ind['PartOne'] + df_ind['PartTwo'] + df_ind['PartThree'] + df_ind['PartFive']\n",
    "df_ind['PartSeven'] = df_ind['PartSix'].divide(3.4)\n",
    "df_ind['IndicatorScore'] = df_ind['PartSeven'].multiply(100)\n",
    "df_ind['IndicatorScoreFin'] = np.where(df_ind['d)Moving towards objectives - Confidence score'] > 0, df_ind['PartSeven'].multiply(100), 0)\n",
    "df_ind.to_excel(inputfolder + \"/2-Addendum3_Management_MEPCA-FinalScore.xlsx\", sheet_name=\"MEPCA-Scores\")\n",
    "\n",
    "# print(df_ind)"
   ]
  },
  {
   "cell_type": "markdown",
   "metadata": {},
   "source": [
    "17. Plotting output histograms"
   ]
  },
  {
   "cell_type": "code",
   "execution_count": null,
   "metadata": {},
   "outputs": [],
   "source": [
    "# No Exclusions\n",
    "plotfshis = px.histogram(x=df_ind['IndicatorScore'], title=\"MEPCA Indicator Final Scores\", nbins=11, labels={'x':'MEPCA Indicator Score (%)'}, text_auto=True)\n",
    "plotfshis.add_vline(x=38.24, line_dash='dash', annotation_text=\"38.24% minimum threshold\")\n",
    "plotfshis.update_xaxes(dtick=10)\n",
    "plotfshis.update_layout(yaxis_title=\"Count of MPAs\")\n",
    "plotfshis.show()\n",
    "plotfshis.write_image(inputfolder + '/plotfshis.png', width=1000, height=1000)\n",
    "\n",
    "#Exclusions - Zero Confidence scores excluded\n",
    "plotfshisfin = px.histogram(x=df_ind['IndicatorScoreFin'], title=\"MEPCA Indicator Final Scores - Zero Confidence scores given a '0' Indicator Score\", nbins=11, labels={'x':'MEPCA Indicator Score (%)'}, text_auto=True)\n",
    "plotfshisfin.add_vline(x=38.24, line_dash='dash', annotation_text=\"38.24% minimum threshold\")\n",
    "plotfshisfin.update_xaxes(dtick=10)\n",
    "plotfshisfin.update_layout(yaxis_title=\"Count of MPAs\")\n",
    "plotfshisfin.show()\n",
    "plotfshisfin.write_image(inputfolder + '/plotfshisfin.png', width=1000, height=1000)"
   ]
  },
  {
   "cell_type": "markdown",
   "metadata": {},
   "source": [
    "18. Plotting output bar charts."
   ]
  },
  {
   "cell_type": "code",
   "execution_count": null,
   "metadata": {},
   "outputs": [],
   "source": [
    "# No Exclusions\n",
    "fsbar = Counter(df_ind['IndicatorScore'])\n",
    "print(fsbar.items())\n",
    "keysfsbar = list(fsbar.keys())\n",
    "valuesfsbar = list(fsbar.values())\n",
    "plotfsbar = px.bar(x=keysfsbar, y=valuesfsbar, title=\"MEPCA Indicator Final Scores\", labels={'x':'MEPCA Indicator Score (%)', 'y':'Count of MPAs'}, text_auto=True, barmode='stack')\n",
    "plotfsbar.add_vline(x=38.24, line_dash='dash', annotation_text=\"38.24% minimum threshold\")\n",
    "plotfsbar.update_xaxes(dtick=5)\n",
    "plotfsbar.show()\n",
    "plotfsbar.write_image(inputfolder + '/plotfsbar.png', width=1200, height=1000)\n",
    "\n",
    "# Exclusions - Zero Confidence scores excluded\n",
    "fsbarfin = Counter(df_ind['IndicatorScoreFin'])\n",
    "print(fsbarfin.items())\n",
    "keysfsbarfin = list(fsbarfin.keys())\n",
    "valuesfsbarfin = list(fsbarfin.values())\n",
    "plotfsbarfin = px.bar(x=keysfsbarfin, y=valuesfsbarfin, title=\"MEPCA Indicator Final Scores - Zero Confidence scores given a '0' Indicator Score\", labels={'x':'MEPCA Indicator Score (%)', 'y':'Count of MPAs'}, text_auto=True, barmode='stack')\n",
    "plotfsbarfin.add_vline(x=38.24, line_dash='dash', annotation_text=\"38.24% minimum threshold\")\n",
    "plotfsbarfin.update_xaxes(dtick=5)\n",
    "plotfsbarfin.show()\n",
    "plotfsbarfin.write_image(inputfolder + '/plotfsbarfin.png', width=1200, height=1000)"
   ]
  },
  {
   "cell_type": "markdown",
   "metadata": {},
   "source": [
    "19. Plot `FinalScore` outputs, with no exclusions:"
   ]
  },
  {
   "cell_type": "code",
   "execution_count": null,
   "metadata": {},
   "outputs": [],
   "source": [
    "# FS = Counter(df_ind['IndicatorScore'])\n",
    "# print(FS.items())\n",
    "# labelsfs = list(FS.keys())\n",
    "# valuesfs = list(FS.values())\n",
    "# plotfs = px.pie(values=valuesfs, names=labelsfs, color=FS.keys(), color_discrete_map=colours,title=\"MEPCA Indicator Final Scores\")\n",
    "# plotfs.update_traces(textinfo='percent+value')\n",
    "# plotfs.show()\n",
    "# plotfs.write_image(inputfolder + '/plotfs.png')\n",
    "\n",
    "bindata = df_ind['IndicatorScore']\n",
    "\n",
    "# Define custom bin edges\n",
    "bin_edges = [0, 20, 40, 60, 80, 100]\n",
    " \n",
    "# Use numpy's histogram function with custom bins\n",
    "hist, bins = np.histogram(bindata, bins=bin_edges)\n",
    " \n",
    "# Print the result\n",
    "print(\"Bin Edges:\", bins)\n",
    "print(\"Histogram Counts:\", hist)\n",
    "\n",
    "plotbin = px.pie(values=hist, names=['0-20', '20-40', '40-60', '60-80', '80-100'], color_discrete_map=colours,title=\"MEPCA Indicator Final Scores - No Exclusions\")\n",
    "plotbin.update_traces(textinfo='percent+value')\n",
    "plotbin.show()\n",
    "plotbin.write_image(inputfolder + '/plotbin.png')"
   ]
  },
  {
   "cell_type": "markdown",
   "metadata": {},
   "source": [
    "20. Plot `FinalScore` outputs, with exclusions:"
   ]
  },
  {
   "cell_type": "code",
   "execution_count": null,
   "metadata": {},
   "outputs": [],
   "source": [
    "binfindata = df_ind['IndicatorScoreFin']\n",
    "\n",
    "# Define custom bin edges\n",
    "# binfin_edges = [0, 20, 40, 60, 80, 100]\n",
    "binfin_edges = [0, 38.24, 60, 80, 100]\n",
    " \n",
    "# Use numpy's histogram function with custom bins\n",
    "hist, bins = np.histogram(binfindata, bins=binfin_edges)\n",
    " \n",
    "# Print the result\n",
    "print(\"Bin Edges:\", bins)\n",
    "print(\"Histogram Counts:\", hist)\n",
    "\n",
    "plotbinfin = px.pie(values=hist, names=['0-38.24', '38.25-60', '60-80', '80-100'], color_discrete_map=colours,title=\"MEPCA Indicator Final Scores - Zero Confidence scores given a '0' Indicator Score\")\n",
    "plotbinfin.update_traces(textinfo='percent+value')\n",
    "plotbinfin.show()\n",
    "plotbinfin.write_image(inputfolder + '/plotbinfin.png')\n",
    "\n",
    "end_time = time.time() # Used to calculate the run time of the MEPCA tool - End\n",
    "print(end_time - start_time) # Print the run time"
   ]
  }
 ],
 "metadata": {
  "kernelspec": {
   "display_name": "Python 3",
   "language": "python",
   "name": "python3"
  },
  "language_info": {
   "codemirror_mode": {
    "name": "ipython",
    "version": 3
   },
   "file_extension": ".py",
   "mimetype": "text/x-python",
   "name": "python",
   "nbconvert_exporter": "python",
   "pygments_lexer": "ipython3",
   "version": "3.12.1"
  }
 },
 "nbformat": 4,
 "nbformat_minor": 2
}
